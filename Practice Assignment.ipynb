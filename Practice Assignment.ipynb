{
 "cells": [
  {
   "cell_type": "markdown",
   "id": "c0c9bb59-8db8-4384-94f8-efe449b71fed",
   "metadata": {},
   "source": [
    "# Practice Assignment"
   ]
  },
  {
   "cell_type": "markdown",
   "id": "368b5a2d-839f-4740-a2e9-7f0bb6a2cddc",
   "metadata": {},
   "source": [
    "# Objectives\n",
    "<div class=\"alert alert-block alert-info\" >\n",
    "After completing the lab you will be able to:\n",
    "\n",
    "* Create a dash board layout\n",
    "* Add a bar chart\n",
    "</div>"
   ]
  },
  {
   "cell_type": "markdown",
   "id": "47ca63f4-cbb7-4fc3-a33d-fb108bbc4c77",
   "metadata": {},
   "source": [
    "# Downloading and Prepping Data\n",
    "\n",
    "If you are using local jupyter lab, then  add these lines in your code:"
   ]
  },
  {
   "cell_type": "code",
   "execution_count": 1,
   "id": "f605f541-ef7e-4626-a405-2788a7cef5db",
   "metadata": {},
   "outputs": [
    {
     "data": {
      "text/plain": [
       "'\\n!pip install dash\\n!pip install dash==1.19.0\\n!pip install jupyter_dash\\n!pip install --upgrade plotly\\n!pip install jupyter-dash\\n'"
      ]
     },
     "execution_count": 1,
     "metadata": {},
     "output_type": "execute_result"
    }
   ],
   "source": [
    "\"\"\"\n",
    "!pip install dash\n",
    "!pip install dash==1.19.0\n",
    "!pip install jupyter_dash\n",
    "!pip install --upgrade plotly\n",
    "!pip install jupyter-dash\n",
    "\"\"\""
   ]
  },
  {
   "cell_type": "markdown",
   "id": "2f89101e-0017-4c33-9eef-24fe95919cfe",
   "metadata": {},
   "source": [
    "## TASK 1 - Dash Application layout\n",
    "Let's start with\n",
    "\n",
    "* Importing necessary libraries\n",
    "* Title added using html.H1() tag"
   ]
  },
  {
   "cell_type": "markdown",
   "id": "65c46eb9-39f7-4070-83c3-8e82f18fb696",
   "metadata": {},
   "source": [
    "## Add dropdown\n",
    "\n",
    "1.You can generate a drop down as shown below. You do by calling Dropdown off dash_core_components and passing the options as a list of dictionaries. You can set the default value using the value attribute and passing in the default option.\n",
    "\n",
    "__Note:__\n",
    "\n",
    "* Add a comma (,) before the placeholder in the skeleton file and then place the code.\n",
    "* The placeholder here is \"# Create dropdown \" in the skeleton file."
   ]
  },
  {
   "cell_type": "markdown",
   "id": "4c0eb318-3932-4c04-b98e-eacd423739fb",
   "metadata": {},
   "source": [
    "## Adding a dataframe\n",
    "\n",
    "Assume you have a dataframe as:\n",
    "\n",
    "__Note:__ Place the code under the placeholder # Add Dataframe in the skeleton file copied before."
   ]
  },
  {
   "cell_type": "code",
   "execution_count": 2,
   "id": "1f97ecd6-1eeb-4975-822d-bf9c6086bb6f",
   "metadata": {},
   "outputs": [
    {
     "data": {
      "text/html": [
       "\n",
       "        <iframe\n",
       "            width=\"100%\"\n",
       "            height=\"650\"\n",
       "            src=\"http://127.0.0.1:8050/\"\n",
       "            frameborder=\"0\"\n",
       "            allowfullscreen\n",
       "            \n",
       "        ></iframe>\n",
       "        "
      ],
      "text/plain": [
       "<IPython.lib.display.IFrame at 0x16a3976f850>"
      ]
     },
     "metadata": {},
     "output_type": "display_data"
    }
   ],
   "source": [
    "# Import required packages\n",
    "import pandas as pd\n",
    "import dash\n",
    "from jupyter_dash import JupyterDash\n",
    "import dash_core_components as dcc\n",
    "import dash_html_components as html\n",
    "import plotly.express as px\n",
    "from dash.dependencies import Input, Output\n",
    "\n",
    "# Add Dataframe\n",
    "df = pd.DataFrame({\n",
    "    \"Fruit\": [\"Apples\", \"Oranges\", \"Bananas\", \"Apples\", \"Oranges\", \"Bananas\"],\n",
    "    \"Amount\": [4, 1, 2, 2, 4, 5],\n",
    "    \"City\": [\"SF\", \"SF\", \"SF\", \"NYC\", \"MTL\", \"NYC\"]\n",
    "})\n",
    "\n",
    "# Add a bar graph figure\n",
    "fig=px.bar(df, x=\"Fruit\", y=\"Amount\", color=\"City\", barmode=\"group\")\n",
    "\n",
    "#app = dash.Dash()\n",
    "app = JupyterDash(__name__) #This line used for JupyterLab\n",
    "\n",
    "app.layout = html.Div(children=[\n",
    "    html.H1(\n",
    "        children='Dashboard',\n",
    "        style={\n",
    "            'textAlign': 'center'\n",
    "        }\n",
    "    ),\n",
    "    \n",
    "    # Create dropdown\n",
    "    dcc.Dropdown(options=[\n",
    "            {'label': 'New York City', 'value': 'NYC'},\n",
    "            {'label': 'Montréal', 'value': 'MTL'},\n",
    "            {'label': 'San Francisco', 'value': 'SF'}\n",
    "        ],\n",
    "        value='NYC' # Providing a vallue to dropdown\n",
    "    ),\n",
    "\n",
    "    # Bar graph\n",
    "    dcc.Graph(id=\"example-graph-2\", figure=fig)\n",
    "    \n",
    "])\n",
    "\n",
    "# Run Application\n",
    "if __name__ == '__main__':\n",
    "    app.run_server(mode='inline')\n",
    "    \n",
    "    #For JupyterLab\n",
    "    #app.run_server(mode='jupyterlab', port = 8090, dev_tools_ui=True, debug=True,dev_tools_hot_reload =True, threaded=True)"
   ]
  },
  {
   "cell_type": "markdown",
   "id": "b7b0b172-d5f6-46a8-8e94-49f6c93f3316",
   "metadata": {},
   "source": [
    "## Task 2: Create Bar graph\n",
    "The __plotly.express__ module (usually imported as px) contains functions that can create entire figures at once, and is referred to as ___Plotly Express or PX__. Plotly Express is a built-in part of the plotly library, and is the recommended starting point for creating most common figures\n",
    "\n",
    "In order to create a graph on our layout, we use the Graph class from __dash_core_components__.\n",
    "\n",
    "__Note:__ Place the code under the placeholder # Add a bar graph figure in the skeleton file copied before."
   ]
  },
  {
   "cell_type": "markdown",
   "id": "b42da5d5-da61-45c0-bd30-ef49ee40c629",
   "metadata": {},
   "source": [
    "__Note:__ Place the __dcc.Graph__ under the placeholder # Bar graph figure in the skeleton file copied before and also __add a comma ,__ before the placeholder."
   ]
  },
  {
   "cell_type": "markdown",
   "id": "6131a7c0-a7a6-4e1a-8645-ba9ebfa6d8e5",
   "metadata": {},
   "source": [
    "## Task 3: Practice Exercise\n",
    "## Story:\n",
    "\n",
    "Here we are looking into an __automobile dataset__ which has various attributes like __drive-wheels,body-style and price__.\n",
    "\n",
    "Lets view the snapshot of our selected dataset."
   ]
  },
  {
   "cell_type": "markdown",
   "id": "b665d4f0-03c6-4ed3-a34b-86c35874a1a9",
   "metadata": {},
   "source": [
    "Here let's say we are selecting 3 important features __drive-wheels, body-style and Price__.\n",
    "\n",
    "*    The possible values of drive-wheels are __4 wheel Drive(4wd),Front WheelDrive(fwd) and Rear wheel Drive(rwd)__.\n",
    "\n",
    "*    The different body styles of the cars are hardtop,sedan,convertible and so on.\n",
    "\n",
    "*    There are 2 types of people here:\n",
    "\n",
    "    *    A customer who wants to purchase the cars with less price , different body styles and wants to look for the drive wheel with this arrangement.\n",
    "\n",
    "    *    A dealer who wants to showcase the prices for the cars with different body styles and drive wheels.\n",
    "\n",
    "*    As a data analyst, you have been given a task to visually show the __body-style and prices__ with respect to each __drive wheel__ selected.\n",
    "\n",
    "*    So ideally you want to showcase this in the form of 2 interactive charts such as __pie chart__ and __bar chart__ on selection of drive wheel.\n",
    "\n",
    "    \n",
    "Below is the key item,\n",
    "\n",
    "*    Drive wheels"
   ]
  },
  {
   "cell_type": "markdown",
   "id": "ca347503-0520-4749-bd86-c0d43dc3febf",
   "metadata": {},
   "source": [
    "## Components of the item\n",
    "1. Drive Wheel Type\n",
    "\n",
    "    For the chosen Drive wheel,\n",
    "\n",
    "      *  Pie Chart showing body style and price.\n",
    "\n",
    "      *  Bar Chart showing body style and price."
   ]
  },
  {
   "cell_type": "markdown",
   "id": "fdc5e5eb-b9bb-46fa-bbfa-44118eee53de",
   "metadata": {},
   "source": [
    "## Requirements to create the expected result\n",
    "\n",
    "*    A dropdown menu: For choosing Drive wheel type\n",
    "*    The layout will be designed as follows:\n",
    "*    An outer division with two inner divisions (as shown in the expected layout)\n",
    "*    One of the inner divisions will have information about the dropdown(which is the input) and the other one is for adding graphs(the 2 output graphs).\n",
    "*    Callback function to compute data, create graph and return to the layout.\n",
    "\n",
    "## To do:\n",
    "\n",
    "1. Import required libraries and read the dataset\n",
    "2. Create an application layout\n",
    "3. Add title to the dashboard using HTML H1 component\n",
    "4. Add a dropdown using dcc.dropdown\n",
    "5. Add the pie chart and bar chart core graph components.\n",
    "6. Run the app"
   ]
  },
  {
   "cell_type": "markdown",
   "id": "77b1a58a-d1a5-4568-a14a-56ea31bce8d1",
   "metadata": {},
   "source": [
    "## Get the application skeleton\n",
    "\n",
    "Copy and paste the command in the terminal to download the csv."
   ]
  },
  {
   "cell_type": "code",
   "execution_count": 3,
   "id": "8c094e54-8a64-4c8f-88fa-4fdb3f5d721f",
   "metadata": {},
   "outputs": [
    {
     "data": {
      "text/plain": [
       "'\\nwget https://cf-courses-data.s3.us.cloud-object-storage.appdomain.cloud/IBMDeveloperSkillsNetwork-DA0101EN-SkillsNetwork/labs/Data%20files/automobileEDA.csv\\n\\n'"
      ]
     },
     "execution_count": 3,
     "metadata": {},
     "output_type": "execute_result"
    }
   ],
   "source": [
    "\"\"\"\n",
    "wget https://cf-courses-data.s3.us.cloud-object-storage.appdomain.cloud/IBMDeveloperSkillsNetwork-DA0101EN-SkillsNetwork/labs/Data%20files/automobileEDA.csv\n",
    "\n",
    "\"\"\""
   ]
  },
  {
   "cell_type": "code",
   "execution_count": 4,
   "id": "c15f80ba-aa5c-4761-bb30-51b42399f8c8",
   "metadata": {},
   "outputs": [
    {
     "data": {
      "text/plain": [
       "\"\\nimport wget\\n\\nsite_url = 'https://cf-courses-data.s3.us.cloud-object-storage.appdomain.cloud/IBMDeveloperSkillsNetwork-DA0101EN-SkillsNetwork/labs/Data%20files/automobileEDA.csv'\\nfile_name = wget.download(site_url)\\nprint(file_name)\\n\\n\""
      ]
     },
     "execution_count": 4,
     "metadata": {},
     "output_type": "execute_result"
    }
   ],
   "source": [
    "\"\"\"\n",
    "import wget\n",
    "\n",
    "site_url = 'https://cf-courses-data.s3.us.cloud-object-storage.appdomain.cloud/IBMDeveloperSkillsNetwork-DA0101EN-SkillsNetwork/labs/Data%20files/automobileEDA.csv'\n",
    "file_name = wget.download(site_url)\n",
    "print(file_name)\n",
    "\n",
    "\"\"\""
   ]
  },
  {
   "cell_type": "markdown",
   "id": "1b60e600-5202-49ea-b89f-307ff80d4845",
   "metadata": {},
   "source": [
    "# Let's create the application\n",
    "\n",
    "Create a new file called Dash_Auto.py\n",
    "\n",
    "Copy the code mentioned in the skeleton file and save it.\n",
    "\n",
    "## Structure of the skeleton file"
   ]
  },
  {
   "cell_type": "code",
   "execution_count": 5,
   "id": "3cb916f1-38c6-429e-8487-b3731a37b1db",
   "metadata": {},
   "outputs": [],
   "source": [
    "import pandas as pd\n",
    "import dash\n",
    "from jupyter_dash import JupyterDash\n",
    "import dash_html_components as html\n",
    "import dash_core_components as dcc\n",
    "from dash.dependencies import Input, Output, State\n",
    "import plotly.graph_objects as go\n",
    "import plotly.express as px\n",
    "from dash import no_update\n",
    "\n",
    "#app = dash.Dash(__name__)\n",
    "app=JupyterDash(__name__)\n",
    "\n",
    "# REVIEW1: Clear the layout and do not display exception till callback gets executed\n",
    "app.config.suppress_callback_exceptions = True\n",
    "\n",
    "# Read the automobiles data into pandas dataframe\n",
    "auto_data =  pd.read_csv('automobileEDA.csv', \n",
    "                            encoding = \"ISO-8859-1\",\n",
    "                            )\n",
    "\n",
    "#Layout Section of Dash\n",
    "\n",
    "app.layout = html.Div(children=[html.H1('Car Automobile Components', \n",
    "                                style={'textAlign': 'center', 'color': '#503D36',\n",
    "                                'font-size': 24}),\n",
    "\n",
    "\n",
    "     #outer division starts\n",
    "     html.Div([\n",
    "                   # First inner divsion for  adding dropdown helper text for Selected Drive wheels\n",
    "                    html.Div(\n",
    "                            html.H2('Drive Wheels Type:', style={'margin-right': '2em'}),\n",
    "                     ),\n",
    "                    #Second Inner division for adding 2 inner divisions for 2 output graphs \n",
    "\n",
    "                      dcc.Dropdown(\n",
    "                            id='demo-dropdown',\n",
    "                        options=[\n",
    "                             {'label': 'Rear Wheel Drive', 'value': 'rwd'},\n",
    "                            {'label': 'Front Wheel Drive', 'value': 'fwd'},\n",
    "                             {'label': 'Four Wheel Drive', 'value': '4wd'}\n",
    "        ],\n",
    "        value='rwd'\n",
    "        ),\n",
    "                    #Second Inner division for adding 2 inner divisions for 2 output graphs \n",
    "\n",
    "                    html.Div([\n",
    "                \n",
    "                        html.Div([ ], id='plot1'),\n",
    "                        html.Div([ ], id='plot2')\n",
    "\n",
    "                        \n",
    "                    ], style={'display': 'flex'}),\n",
    "\n",
    "\n",
    "    ])\n",
    "    #outer division ends\n",
    "\n",
    "])\n",
    "#layout ends\n",
    "\n",
    "#Place to add @app.callback Decorator\n",
    "@app.callback([Output(component_id='plot1', component_property='children'),\n",
    "               Output(component_id='plot2', component_property='children')],\n",
    "               Input(component_id='demo-dropdown', component_property='value'))\n",
    "\n",
    "\n",
    "   \n",
    "#Place to define the callback function .\n",
    "def display_selected_drive_charts(value):\n",
    "   \n",
    "\n",
    "   #show the body-style and prices with respect to each drive wheel selected.\n",
    "   filtered_df = auto_data[auto_data['drive-wheels']==value].groupby(['drive-wheels','body-style'],as_index=False). \\\n",
    "            mean()\n",
    "        \n",
    "   filtered_df = filtered_df\n",
    "   \n",
    "   fig1 = px.pie(filtered_df, values='price', names='body-style', title=\"Pie Chart\")\n",
    "   fig2 = px.bar(filtered_df, x='body-style', y='price', title='Bar Chart')\n",
    "    \n",
    "   return [dcc.Graph(figure=fig1),\n",
    "            dcc.Graph(figure=fig2) ]\n",
    "   \n",
    "if __name__ == '__main__':\n",
    "    #app.run_server(mode=\"inline\")\n",
    "    \n",
    "        \n",
    "    #For JupyterLab\n",
    "    app.run_server(mode='jupyterlab', port = 8090, dev_tools_ui=True, debug=True,dev_tools_hot_reload =True, threaded=True)\n",
    "    "
   ]
  },
  {
   "cell_type": "markdown",
   "id": "588af7c3-67b3-4453-8027-deff796570d5",
   "metadata": {},
   "source": [
    "## TASK 3A: Add title to the dashboard\n",
    "Update the __html.H1()__ tag to hold the application title.\n",
    "\n",
    "* Application title is __Car Automobile Components__\n",
    "* Use style parameter provided below to make the title __center__ aligned, with color code __#503D36__, and font-size as __24__"
   ]
  },
  {
   "cell_type": "markdown",
   "id": "f848b108-dd7e-4e94-9637-4e404788541b",
   "metadata": {},
   "source": [
    "## TASK 3B: Add a Label to the dropdown\n",
    "Use the __html.H2()__ tag to hold the label for the dropdown inside the first inner division\n",
    "\n",
    "* Label is __Drive Wheels Type:__\n",
    "\n",
    "* Use style parameter provided below to allign the label __margin-right__ with value __2em__ which means 2 times the size of the current font."
   ]
  },
  {
   "cell_type": "markdown",
   "id": "ba52c335-95a5-4471-adef-41618be77513",
   "metadata": {},
   "source": [
    "## TASK 3C: Next lets add the dropdown right below the first inner division.\n",
    "\n",
    "* The dropdown has an id as demo-dropdown.\n",
    "\n",
    "* These options have the labels as Rear Wheel Drive ,Front Wheel Drive and Four Wheel Drive\n",
    "\n",
    "* The values allowed in the dropdown are rwd,fwd,4wd\n",
    "\n",
    "* The default value when the dropdown is displayed is rwd."
   ]
  },
  {
   "cell_type": "markdown",
   "id": "5e98c7fe-7322-4b95-98a7-c13fe778c4cb",
   "metadata": {},
   "source": [
    "## TASK 3D: Add two empty divisions for output inside the next inner division.\n",
    "\n",
    "* Use 2 html.Div() tags .\n",
    "\n",
    "* Provide division ids as plot1 and plot2."
   ]
  },
  {
   "cell_type": "markdown",
   "id": "622a0166-cfe8-45d8-aa2f-48d0632744cd",
   "metadata": {
    "tags": []
   },
   "source": [
    "## TASK 3E: Add the Ouput and input components inside the app.callback decorator.\n",
    "\n",
    "* The inputs and outputs of our application's interface are described declaratively as the arguments of @app.callback decorator.\n",
    "-In Dash, the inputs and outputs of our application are simply the properties of a particular component.\n",
    "\n",
    "* In this example, our input is the value property of the component that has the ID demo-dropdown\n",
    "\n",
    "* Our layout has 2 outputs so we need to create 2 output components.\n",
    "\n",
    "It is a list with 2 output parameters with component id and property. Here, the component property will be children as we have created empty division and passing in dcc.Graph (figure) after computation.\n",
    "\n",
    "Component ids will be plot1 , plot2."
   ]
  },
  {
   "cell_type": "markdown",
   "id": "90204a41-d178-4c03-b495-8b33cc544623",
   "metadata": {},
   "source": [
    "## TASK 3F: Add the callback function.\n",
    "\n",
    "* Whenever an input property changes, the function that the callback decorator wraps will get called automatically.\n",
    "* In this case let us define a function display_selected_drive_charts() which will be wrapped by our decorator.\n",
    "* The function first filters our dataframe auto_data by the selected value of the drive-wheels from the dropdown as follows\n",
    "auto_data[auto_data['drive-wheels']==value] .\n",
    "* Next we will group by the drive-wheels and body-style and calculate the mean price of the dataframe.\n",
    "* Use the px.pie() and px.bar() function we will plot the pie chart and bar chart"
   ]
  },
  {
   "cell_type": "markdown",
   "id": "0f50c0f3-a05c-4ee6-bb6d-8858f6a91676",
   "metadata": {},
   "source": [
    "* Here for the pie chart we pass the filtered dataframe where values correspond to price and names will be body-style\n",
    "* For the bar chart also we will pass the filtered dataframe where x-axis corresponds to body-style and y-axis as price.\n",
    "* Finally we return the 2 figure objects fig1 and fig2 in dcc.Graph method and finally the plots are displayed as follows"
   ]
  },
  {
   "cell_type": "markdown",
   "id": "9b601fcc-9684-4127-bd26-3c4ad36d1f95",
   "metadata": {},
   "source": [
    "__Later in the browser address bar use this:__\n",
    "\n",
    "http://localhost:8090"
   ]
  },
  {
   "cell_type": "markdown",
   "id": "0191681f-ba14-45b4-ba30-85c4ca04ef54",
   "metadata": {},
   "source": [
    "# Congratulations, you have successfully created your dash application!"
   ]
  },
  {
   "cell_type": "code",
   "execution_count": null,
   "id": "ba057bfc-c012-4f95-aab4-d7a249cfce26",
   "metadata": {},
   "outputs": [],
   "source": []
  }
 ],
 "metadata": {
  "kernelspec": {
   "display_name": "Python 3 (ipykernel)",
   "language": "python",
   "name": "python3"
  },
  "language_info": {
   "codemirror_mode": {
    "name": "ipython",
    "version": 3
   },
   "file_extension": ".py",
   "mimetype": "text/x-python",
   "name": "python",
   "nbconvert_exporter": "python",
   "pygments_lexer": "ipython3",
   "version": "3.9.12"
  }
 },
 "nbformat": 4,
 "nbformat_minor": 5
}
